{
 "cells": [
  {
   "cell_type": "code",
   "execution_count": 1,
   "id": "1d8d3139-aa51-42bb-b1dc-ba09524cf140",
   "metadata": {},
   "outputs": [
    {
     "name": "stderr",
     "output_type": "stream",
     "text": [
      "C:\\Users\\Test\\AppData\\Local\\Temp\\ipykernel_19216\\2469158529.py:1: DeprecationWarning: \n",
      "Pyarrow will become a required dependency of pandas in the next major release of pandas (pandas 3.0),\n",
      "(to allow more performant data types, such as the Arrow string type, and better interoperability with other libraries)\n",
      "but was not found to be installed on your system.\n",
      "If this would cause problems for you,\n",
      "please provide us feedback at https://github.com/pandas-dev/pandas/issues/54466\n",
      "        \n",
      "  import pandas as pd\n"
     ]
    }
   ],
   "source": [
    "import pandas as pd\n",
    "import requests \n",
    "from bs4 import BeautifulSoup\n",
    "import time"
   ]
  },
  {
   "cell_type": "code",
   "execution_count": 2,
   "id": "82391946-a644-4a7f-a4c4-3a8ebb85aaa2",
   "metadata": {},
   "outputs": [],
   "source": [
    "Product_name=[]\n",
    "Prices= []\n",
    "Description=[]\n",
    "Reviews=[]"
   ]
  },
  {
   "cell_type": "code",
   "execution_count": 3,
   "id": "b24e7cdb-8e5d-4e64-9fbe-b5e36657913d",
   "metadata": {},
   "outputs": [
    {
     "name": "stdout",
     "output_type": "stream",
     "text": [
      "Fetching page 1: Status code 200\n",
      "Page 1 data collected:\n",
      "Product Names: 23\n",
      "Prices: 23\n",
      "Descriptions: 23\n",
      "Reviews: 23\n",
      "Fetching page 2: Status code 200\n",
      "Page 2 data collected:\n",
      "Product Names: 46\n",
      "Prices: 46\n",
      "Descriptions: 46\n",
      "Reviews: 46\n",
      "Fetching page 3: Status code 429\n",
      "Rate limited. Waiting for a while before retrying...\n",
      "Failed to fetch page 3 after waiting.\n",
      "Fetching page 4: Status code 200\n",
      "Page 4 data collected:\n",
      "Product Names: 70\n",
      "Prices: 70\n",
      "Descriptions: 70\n",
      "Reviews: 70\n",
      "Fetching page 5: Status code 200\n",
      "Page 5 data collected:\n",
      "Product Names: 93\n",
      "Prices: 93\n",
      "Descriptions: 93\n",
      "Reviews: 93\n",
      "Fetching page 6: Status code 200\n",
      "Page 6 data collected:\n",
      "Product Names: 117\n",
      "Prices: 117\n",
      "Descriptions: 117\n",
      "Reviews: 117\n",
      "Fetching page 7: Status code 200\n",
      "Page 7 data collected:\n",
      "Product Names: 140\n",
      "Prices: 140\n",
      "Descriptions: 140\n",
      "Reviews: 140\n",
      "Fetching page 8: Status code 200\n",
      "Page 8 data collected:\n",
      "Product Names: 164\n",
      "Prices: 164\n",
      "Descriptions: 164\n",
      "Reviews: 164\n",
      "Fetching page 9: Status code 429\n",
      "Rate limited. Waiting for a while before retrying...\n",
      "Page 9 data collected:\n",
      "Product Names: 185\n",
      "Prices: 185\n",
      "Descriptions: 185\n",
      "Reviews: 185\n",
      "Fetching page 10: Status code 429\n",
      "Rate limited. Waiting for a while before retrying...\n",
      "Page 10 data collected:\n",
      "Product Names: 208\n",
      "Prices: 208\n",
      "Descriptions: 208\n",
      "Reviews: 208\n",
      "Fetching page 11: Status code 200\n",
      "Page 11 data collected:\n",
      "Product Names: 232\n",
      "Prices: 232\n",
      "Descriptions: 232\n",
      "Reviews: 232\n"
     ]
    }
   ],
   "source": [
    "for i in range(1, 12):\n",
    "    url = f'https://www.flipkart.com/search?q=mobiles+under+50000&otracker=search&otracker1=search&marketplace=FLIPKART&as-show=on&as=off&page={i}'\n",
    "    r = requests.get(url)\n",
    "    \n",
    "    # Log the status of the request\n",
    "    print(f\"Fetching page {i}: Status code {r.status_code}\")\n",
    "    \n",
    "    if r.status_code == 429:\n",
    "        print(\"Rate limited. Waiting for a while before retrying...\")\n",
    "        time.sleep(60)  # Wait for 60 seconds before retrying\n",
    "        r = requests.get(url)\n",
    "    \n",
    "    if r.status_code == 200:\n",
    "        soup = BeautifulSoup(r.text, 'lxml')\n",
    "        box = soup.find(\"div\", class_=\"DOjaWF gdgoEp\")\n",
    "        \n",
    "        if box:\n",
    "            names = box.find_all(\"div\", class_='KzDlHZ')\n",
    "            prices = box.find_all(\"div\", class_=\"Nx9bqj _4b5DiR\")\n",
    "            desc = box.find_all(\"ul\", class_=\"G4BRas\")\n",
    "            reviews = box.find_all(\"div\", class_=\"XQDdHH\")\n",
    "\n",
    "            min_length = min(len(names), len(prices), len(desc), len(reviews))\n",
    "\n",
    "            for j in range(min_length):\n",
    "                Product_name.append(names[j].text)\n",
    "                Prices.append(prices[j].text)\n",
    "                Description.append(desc[j].text)\n",
    "                Reviews.append(reviews[j].text)\n",
    "            \n",
    "            print(f\"Page {i} data collected:\")\n",
    "            print(f\"Product Names: {len(Product_name)}\")\n",
    "            print(f\"Prices: {len(Prices)}\")\n",
    "            print(f\"Descriptions: {len(Description)}\")\n",
    "            print(f\"Reviews: {len(Reviews)}\")\n",
    "        else:\n",
    "            print(f\"No product box found on page {i}\")\n",
    "    else:\n",
    "        print(f\"Failed to fetch page {i} after waiting.\")\n",
    "    \n",
    "    # Delay between requests to avoid rate limiting\n",
    "    time.sleep(5)  # Wait for 5 seconds before the next request\n"
   ]
  },
  {
   "cell_type": "code",
   "execution_count": 4,
   "id": "1e65dc25-1031-4738-827b-5af54a9f5c54",
   "metadata": {},
   "outputs": [
    {
     "name": "stdout",
     "output_type": "stream",
     "text": [
      "                                        Product Name    Price  \\\n",
      "0  OPPO K12x 5G with 45W SUPERVOOC Charger In-The...  ₹12,999   \n",
      "1               Xiaomi 14 CIVI (Panda White, 512 GB)  ₹48,999   \n",
      "2              Google Pixel 7 Pro (Obsidian, 128 GB)  ₹45,999   \n",
      "3               SAMSUNG Galaxy S23 FE (Mint, 256 GB)  ₹49,999   \n",
      "4              SAMSUNG Galaxy S23 5G (Cream, 256 GB)  ₹60,999   \n",
      "\n",
      "                                         Description Review  \n",
      "0  6 GB RAM | 128 GB ROM | Expandable Upto 1 TB16...    4.3  \n",
      "1  12 GB RAM | 512 GB ROM16.64 cm (6.55 inch) Dis...    4.3  \n",
      "2  12 GB RAM | 128 GB ROM17.02 cm (6.7 inch) Quad...    4.3  \n",
      "3  8 GB RAM | 256 GB ROM16.26 cm (6.4 inch) Full ...    4.5  \n",
      "4  8 GB RAM | 256 GB ROM15.49 cm (6.1 inch) Full ...    4.5  \n"
     ]
    }
   ],
   "source": [
    "df = pd.DataFrame({\n",
    "    'Product Name': Product_name,\n",
    "    'Price': Prices,\n",
    "    'Description': Description,\n",
    "    'Review': Reviews\n",
    "})\n",
    "\n",
    "print(df.head())"
   ]
  },
  {
   "cell_type": "code",
   "execution_count": 15,
   "id": "43ff887e-76d3-4e18-bb42-480f6fdb8d61",
   "metadata": {},
   "outputs": [
    {
     "data": {
      "text/plain": [
       "0"
      ]
     },
     "execution_count": 15,
     "metadata": {},
     "output_type": "execute_result"
    }
   ],
   "source": [
    "df.duplicated().sum()"
   ]
  },
  {
   "cell_type": "code",
   "execution_count": 14,
   "id": "0b919771-20aa-429d-a60f-9125ba252538",
   "metadata": {},
   "outputs": [],
   "source": [
    "df.drop_duplicates(inplace=True)"
   ]
  },
  {
   "cell_type": "code",
   "execution_count": 16,
   "id": "4986fc5f-98b8-4e4e-86ab-30b7b26f6c5b",
   "metadata": {},
   "outputs": [],
   "source": [
    "df.to_csv('flipkart_mobiles.csv', index=False)"
   ]
  }
 ],
 "metadata": {
  "kernelspec": {
   "display_name": "Python 3 (ipykernel)",
   "language": "python",
   "name": "python3"
  },
  "language_info": {
   "codemirror_mode": {
    "name": "ipython",
    "version": 3
   },
   "file_extension": ".py",
   "mimetype": "text/x-python",
   "name": "python",
   "nbconvert_exporter": "python",
   "pygments_lexer": "ipython3",
   "version": "3.12.1"
  }
 },
 "nbformat": 4,
 "nbformat_minor": 5
}
